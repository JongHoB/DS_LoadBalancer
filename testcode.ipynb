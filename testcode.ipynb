{
 "cells": [
  {
   "cell_type": "markdown",
   "metadata": {},
   "source": [
    "# 소프트웨어학과 202020809 백종호 - 분산 시스템 프로젝트 테스트 코드"
   ]
  },
  {
   "cell_type": "code",
   "execution_count": 31,
   "metadata": {},
   "outputs": [
    {
     "name": "stdout",
     "output_type": "stream",
     "text": [
      "Defaulting to user installation because normal site-packages is not writeable\n",
      "Requirement already satisfied: requests in /Users/jhb/Library/Python/3.9/lib/python/site-packages (2.32.3)\n",
      "Requirement already satisfied: idna<4,>=2.5 in /Users/jhb/Library/Python/3.9/lib/python/site-packages (from requests) (3.7)\n",
      "Requirement already satisfied: urllib3<3,>=1.21.1 in /Users/jhb/Library/Python/3.9/lib/python/site-packages (from requests) (2.2.1)\n",
      "Requirement already satisfied: charset-normalizer<4,>=2 in /Users/jhb/Library/Python/3.9/lib/python/site-packages (from requests) (3.3.2)\n",
      "Requirement already satisfied: certifi>=2017.4.17 in /Users/jhb/Library/Python/3.9/lib/python/site-packages (from requests) (2024.6.2)\n",
      "\u001b[33mWARNING: You are using pip version 21.2.4; however, version 24.0 is available.\n",
      "You should consider upgrading via the '/Applications/Xcode.app/Contents/Developer/usr/bin/python3 -m pip install --upgrade pip' command.\u001b[0m\n",
      "Note: you may need to restart the kernel to use updated packages.\n"
     ]
    }
   ],
   "source": [
    "pip install requests"
   ]
  },
  {
   "cell_type": "code",
   "execution_count": 32,
   "metadata": {},
   "outputs": [],
   "source": [
    "import threading, time ,sys, requests"
   ]
  },
  {
   "cell_type": "code",
   "execution_count": 33,
   "metadata": {},
   "outputs": [
    {
     "name": "stdout",
     "output_type": "stream",
     "text": [
      "[100, 47, 70, 16, 85, 44, 40, 54, 41, 28, 98, 40, 17, 80, 30, 80, 59, 85, 39, 67, 58, 63, 98, 71, 63, 41, 73, 43, 50, 81, 37, 15, 75, 94, 10, 84, 16, 12, 53, 84, 95, 67, 87, 87, 90, 87, 13, 59, 43, 10, 72, 27, 17, 37, 62, 53, 93, 90, 28, 58, 87, 12, 100, 57, 30, 14, 47, 35, 21, 32, 52, 34, 90, 24, 33, 34, 12, 25, 42, 62, 67, 12, 54, 40, 80, 25, 81, 39, 34, 32, 54, 35, 83, 96, 10, 43, 30, 68, 38, 76]\n"
     ]
    }
   ],
   "source": [
    "import random\n",
    "\n",
    "# 10에서 200 사이의 랜덤 숫자 100개 생성\n",
    "random_numbers = [random.randint(10, 100) for _ in range(100)]\n",
    "\n",
    "# 결과 출력\n",
    "print(random_numbers)"
   ]
  },
  {
   "cell_type": "code",
   "execution_count": 34,
   "metadata": {},
   "outputs": [],
   "source": [
    "def url_post(url,name, list ,num):\n",
    "  fname = name+'-'+str(num)+\".txt\"\n",
    "  for body in list:\n",
    "    try:\n",
    "      response = requests.post(url,str(body))\n",
    "      with open(fname,'a') as f:\n",
    "        print(response.text,file=f)\n",
    "    except Exception as e:\n",
    "      print(\"ERROR!\")\n",
    "      break"
   ]
  },
  {
   "cell_type": "markdown",
   "metadata": {},
   "source": [
    "# RoundRobin"
   ]
  },
  {
   "cell_type": "code",
   "execution_count": 35,
   "metadata": {},
   "outputs": [
    {
     "data": {
      "text/plain": [
       "'http://210.107.197.114:3000/DSPROJECT-SERVICE\\nhttp://210.107.196.183:3000/DSPROJECT-SERVICE\\nhttp://210.107.197.118:3000/DSPROJECT-SERVICE\\n'"
      ]
     },
     "execution_count": 35,
     "metadata": {},
     "output_type": "execute_result"
    }
   ],
   "source": [
    "response = requests.get(\"http://localhost:8000/init-roundrobin\")\n",
    "response.text"
   ]
  },
  {
   "cell_type": "code",
   "execution_count": 36,
   "metadata": {},
   "outputs": [],
   "source": [
    "url = \"http://localhost:8000/roundrobin\"\n",
    "threads = []\n",
    "\n",
    "start_time = time.time()\n",
    "for i in range(1,6):\n",
    "  thread = threading.Thread(target=url_post, args=(url, \"roundrobin\",random_numbers,i))\n",
    "  threads.append(thread)\n",
    "  thread.start()\n",
    "\n",
    "for thread in threads:\n",
    "  thread.join()\n",
    "end_time = time.time()\n",
    "\n",
    "# 전체 소요 시간 계산 (밀리초 단위)\n",
    "elapsed_time_ms = (end_time - start_time) * 1000"
   ]
  },
  {
   "cell_type": "code",
   "execution_count": 37,
   "metadata": {},
   "outputs": [
    {
     "name": "stdout",
     "output_type": "stream",
     "text": [
      "229047.88208007812\n"
     ]
    }
   ],
   "source": [
    "print(elapsed_time_ms)"
   ]
  },
  {
   "cell_type": "code",
   "execution_count": 38,
   "metadata": {},
   "outputs": [],
   "source": [
    "url = \"http://localhost:8000/roundrobin\"\n",
    "threads = []\n",
    "\n",
    "start_time = time.time()\n",
    "for i in range(1,6):\n",
    "  thread = threading.Thread(target=url_post, args=(url, \"roundrobin2\",random_numbers,i))\n",
    "  threads.append(thread)\n",
    "  thread.start()\n",
    "\n",
    "for thread in threads:\n",
    "  thread.join()\n",
    "end_time = time.time()\n",
    "\n",
    "# 전체 소요 시간 계산 (밀리초 단위)\n",
    "elapsed_time_ms = (end_time - start_time) * 1000"
   ]
  },
  {
   "cell_type": "code",
   "execution_count": 39,
   "metadata": {},
   "outputs": [
    {
     "name": "stdout",
     "output_type": "stream",
     "text": [
      "242837.27478981018\n"
     ]
    }
   ],
   "source": [
    "print(elapsed_time_ms)"
   ]
  },
  {
   "cell_type": "code",
   "execution_count": 40,
   "metadata": {},
   "outputs": [],
   "source": [
    "url = \"http://localhost:8000/roundrobin\"\n",
    "threads = []\n",
    "\n",
    "start_time = time.time()\n",
    "for i in range(1,6):\n",
    "  thread = threading.Thread(target=url_post, args=(url, \"roundrobin3\",random_numbers,i))\n",
    "  threads.append(thread)\n",
    "  thread.start()\n",
    "\n",
    "for thread in threads:\n",
    "  thread.join()\n",
    "end_time = time.time()\n",
    "\n",
    "# 전체 소요 시간 계산 (밀리초 단위)\n",
    "elapsed_time_ms = (end_time - start_time) * 1000"
   ]
  },
  {
   "cell_type": "code",
   "execution_count": 41,
   "metadata": {},
   "outputs": [
    {
     "name": "stdout",
     "output_type": "stream",
     "text": [
      "230495.53728103638\n"
     ]
    }
   ],
   "source": [
    "print(elapsed_time_ms)"
   ]
  },
  {
   "cell_type": "code",
   "execution_count": 42,
   "metadata": {},
   "outputs": [],
   "source": [
    "url = \"http://localhost:8000/roundrobin\"\n",
    "threads = []\n",
    "\n",
    "start_time = time.time()\n",
    "for i in range(1,6):\n",
    "  thread = threading.Thread(target=url_post, args=(url, \"roundrobin4\",random_numbers,i))\n",
    "  threads.append(thread)\n",
    "  thread.start()\n",
    "\n",
    "for thread in threads:\n",
    "  thread.join()\n",
    "end_time = time.time()\n",
    "\n",
    "# 전체 소요 시간 계산 (밀리초 단위)\n",
    "elapsed_time_ms = (end_time - start_time) * 1000"
   ]
  },
  {
   "cell_type": "code",
   "execution_count": 43,
   "metadata": {},
   "outputs": [
    {
     "name": "stdout",
     "output_type": "stream",
     "text": [
      "256559.5269203186\n"
     ]
    }
   ],
   "source": [
    "print(elapsed_time_ms)"
   ]
  },
  {
   "cell_type": "code",
   "execution_count": 44,
   "metadata": {},
   "outputs": [],
   "source": [
    "url = \"http://localhost:8000/roundrobin\"\n",
    "threads = []\n",
    "\n",
    "start_time = time.time()\n",
    "for i in range(1,6):\n",
    "  thread = threading.Thread(target=url_post, args=(url, \"roundrobin5\",random_numbers,i))\n",
    "  threads.append(thread)\n",
    "  thread.start()\n",
    "\n",
    "for thread in threads:\n",
    "  thread.join()\n",
    "end_time = time.time()\n",
    "\n",
    "# 전체 소요 시간 계산 (밀리초 단위)\n",
    "elapsed_time_ms = (end_time - start_time) * 1000"
   ]
  },
  {
   "cell_type": "code",
   "execution_count": 45,
   "metadata": {},
   "outputs": [
    {
     "name": "stdout",
     "output_type": "stream",
     "text": [
      "242879.44293022156\n"
     ]
    }
   ],
   "source": [
    "print(elapsed_time_ms)"
   ]
  },
  {
   "cell_type": "markdown",
   "metadata": {},
   "source": [
    "# WeightedRoundRobin"
   ]
  },
  {
   "cell_type": "code",
   "execution_count": 46,
   "metadata": {},
   "outputs": [
    {
     "data": {
      "text/plain": [
       "'http://210.107.197.118:3000/DSPROJECT-SERVICE : 56\\nhttp://210.107.196.183:3000/DSPROJECT-SERVICE : 20\\nhttp://210.107.197.114:3000/DSPROJECT-SERVICE : 24\\n'"
      ]
     },
     "execution_count": 46,
     "metadata": {},
     "output_type": "execute_result"
    }
   ],
   "source": [
    "response = requests.get(\"http://localhost:8000/init-weightedroundrobin\")\n",
    "response.text"
   ]
  },
  {
   "cell_type": "code",
   "execution_count": 47,
   "metadata": {},
   "outputs": [],
   "source": [
    "url = \"http://localhost:8000/weightedroundrobin\"\n",
    "threads = []\n",
    "\n",
    "start_time = time.time()\n",
    "for i in range(1,6):\n",
    "  thread = threading.Thread(target=url_post, args=(url, \"weightedroundrobin\",random_numbers,i))\n",
    "  threads.append(thread)\n",
    "  thread.start()\n",
    "\n",
    "for thread in threads:\n",
    "  thread.join()\n",
    "end_time = time.time()\n",
    "\n",
    "# 전체 소요 시간 계산 (밀리초 단위)\n",
    "elapsed_time_ms = (end_time - start_time) * 1000"
   ]
  },
  {
   "cell_type": "code",
   "execution_count": 48,
   "metadata": {},
   "outputs": [
    {
     "name": "stdout",
     "output_type": "stream",
     "text": [
      "173883.41689109802\n"
     ]
    }
   ],
   "source": [
    "print(elapsed_time_ms)"
   ]
  },
  {
   "cell_type": "code",
   "execution_count": 49,
   "metadata": {},
   "outputs": [],
   "source": [
    "url = \"http://localhost:8000/weightedroundrobin\"\n",
    "threads = []\n",
    "\n",
    "start_time = time.time()\n",
    "for i in range(1,6):\n",
    "  thread = threading.Thread(target=url_post, args=(url, \"weightedroundrobin2\",random_numbers,i))\n",
    "  threads.append(thread)\n",
    "  thread.start()\n",
    "\n",
    "for thread in threads:\n",
    "  thread.join()\n",
    "end_time = time.time()\n",
    "\n",
    "# 전체 소요 시간 계산 (밀리초 단위)\n",
    "elapsed_time_ms = (end_time - start_time) * 1000"
   ]
  },
  {
   "cell_type": "code",
   "execution_count": 50,
   "metadata": {},
   "outputs": [
    {
     "name": "stdout",
     "output_type": "stream",
     "text": [
      "179549.21507835388\n"
     ]
    }
   ],
   "source": [
    "print(elapsed_time_ms)"
   ]
  },
  {
   "cell_type": "code",
   "execution_count": 51,
   "metadata": {},
   "outputs": [],
   "source": [
    "url = \"http://localhost:8000/weightedroundrobin\"\n",
    "threads = []\n",
    "\n",
    "start_time = time.time()\n",
    "for i in range(1,6):\n",
    "  thread = threading.Thread(target=url_post, args=(url, \"weightedroundrobin3\",random_numbers,i))\n",
    "  threads.append(thread)\n",
    "  thread.start()\n",
    "\n",
    "for thread in threads:\n",
    "  thread.join()\n",
    "end_time = time.time()\n",
    "\n",
    "# 전체 소요 시간 계산 (밀리초 단위)\n",
    "elapsed_time_ms = (end_time - start_time) * 1000"
   ]
  },
  {
   "cell_type": "code",
   "execution_count": 52,
   "metadata": {},
   "outputs": [
    {
     "name": "stdout",
     "output_type": "stream",
     "text": [
      "184586.32612228394\n"
     ]
    }
   ],
   "source": [
    "print(elapsed_time_ms)"
   ]
  },
  {
   "cell_type": "code",
   "execution_count": 53,
   "metadata": {},
   "outputs": [],
   "source": [
    "url = \"http://localhost:8000/weightedroundrobin\"\n",
    "threads = []\n",
    "\n",
    "start_time = time.time()\n",
    "for i in range(1,6):\n",
    "  thread = threading.Thread(target=url_post, args=(url, \"weightedroundrobin4\",random_numbers,i))\n",
    "  threads.append(thread)\n",
    "  thread.start()\n",
    "\n",
    "for thread in threads:\n",
    "  thread.join()\n",
    "end_time = time.time()\n",
    "\n",
    "# 전체 소요 시간 계산 (밀리초 단위)\n",
    "elapsed_time_ms = (end_time - start_time) * 1000"
   ]
  },
  {
   "cell_type": "code",
   "execution_count": 54,
   "metadata": {},
   "outputs": [
    {
     "name": "stdout",
     "output_type": "stream",
     "text": [
      "171072.00288772583\n"
     ]
    }
   ],
   "source": [
    "print(elapsed_time_ms)"
   ]
  },
  {
   "cell_type": "code",
   "execution_count": 55,
   "metadata": {},
   "outputs": [],
   "source": [
    "url = \"http://localhost:8000/weightedroundrobin\"\n",
    "threads = []\n",
    "\n",
    "start_time = time.time()\n",
    "for i in range(1,6):\n",
    "  thread = threading.Thread(target=url_post, args=(url, \"weightedroundrobin5\",random_numbers,i))\n",
    "  threads.append(thread)\n",
    "  thread.start()\n",
    "\n",
    "for thread in threads:\n",
    "  thread.join()\n",
    "end_time = time.time()\n",
    "\n",
    "# 전체 소요 시간 계산 (밀리초 단위)\n",
    "elapsed_time_ms = (end_time - start_time) * 1000"
   ]
  },
  {
   "cell_type": "code",
   "execution_count": 56,
   "metadata": {},
   "outputs": [
    {
     "name": "stdout",
     "output_type": "stream",
     "text": [
      "173423.8817691803\n"
     ]
    }
   ],
   "source": [
    "print(elapsed_time_ms)"
   ]
  },
  {
   "cell_type": "markdown",
   "metadata": {},
   "source": [
    "# LeastResponseTime"
   ]
  },
  {
   "cell_type": "code",
   "execution_count": 57,
   "metadata": {},
   "outputs": [
    {
     "data": {
      "text/plain": [
       "'http://210.107.197.114:3000/DSPROJECT-SERVICE : 0\\nhttp://210.107.197.118:3000/DSPROJECT-SERVICE : 0\\nhttp://210.107.196.183:3000/DSPROJECT-SERVICE : 0\\n'"
      ]
     },
     "execution_count": 57,
     "metadata": {},
     "output_type": "execute_result"
    }
   ],
   "source": [
    "response = requests.get(\"http://localhost:8000/init-leastresponsetime\")\n",
    "response.text"
   ]
  },
  {
   "cell_type": "code",
   "execution_count": 58,
   "metadata": {},
   "outputs": [],
   "source": [
    "url = \"http://localhost:8000/leastresponsetime\"\n",
    "threads = []\n",
    "\n",
    "start_time = time.time()\n",
    "for i in range(1,6):\n",
    "  thread = threading.Thread(target=url_post, args=(url, \"leastresponsetime\",random_numbers,i))\n",
    "  threads.append(thread)\n",
    "  thread.start()\n",
    "\n",
    "for thread in threads:\n",
    "  thread.join()\n",
    "end_time = time.time()\n",
    "\n",
    "# 전체 소요 시간 계산 (밀리초 단위)\n",
    "elapsed_time_ms = (end_time - start_time) * 1000"
   ]
  },
  {
   "cell_type": "code",
   "execution_count": 59,
   "metadata": {},
   "outputs": [
    {
     "name": "stdout",
     "output_type": "stream",
     "text": [
      "158184.30495262146\n"
     ]
    }
   ],
   "source": [
    "print(elapsed_time_ms)"
   ]
  },
  {
   "cell_type": "code",
   "execution_count": 60,
   "metadata": {},
   "outputs": [],
   "source": [
    "url = \"http://localhost:8000/leastresponsetime\"\n",
    "threads = []\n",
    "\n",
    "start_time = time.time()\n",
    "for i in range(1,6):\n",
    "  thread = threading.Thread(target=url_post, args=(url, \"leastresponsetime2\",random_numbers,i))\n",
    "  threads.append(thread)\n",
    "  thread.start()\n",
    "\n",
    "for thread in threads:\n",
    "  thread.join()\n",
    "end_time = time.time()\n",
    "\n",
    "# 전체 소요 시간 계산 (밀리초 단위)\n",
    "elapsed_time_ms = (end_time - start_time) * 1000"
   ]
  },
  {
   "cell_type": "code",
   "execution_count": 61,
   "metadata": {},
   "outputs": [
    {
     "name": "stdout",
     "output_type": "stream",
     "text": [
      "156275.91514587402\n"
     ]
    }
   ],
   "source": [
    "print(elapsed_time_ms)"
   ]
  },
  {
   "cell_type": "code",
   "execution_count": 62,
   "metadata": {},
   "outputs": [],
   "source": [
    "url = \"http://localhost:8000/leastresponsetime\"\n",
    "threads = []\n",
    "\n",
    "start_time = time.time()\n",
    "for i in range(1,6):\n",
    "  thread = threading.Thread(target=url_post, args=(url, \"leastresponsetime3\",random_numbers,i))\n",
    "  threads.append(thread)\n",
    "  thread.start()\n",
    "\n",
    "for thread in threads:\n",
    "  thread.join()\n",
    "end_time = time.time()\n",
    "\n",
    "# 전체 소요 시간 계산 (밀리초 단위)\n",
    "elapsed_time_ms = (end_time - start_time) * 1000"
   ]
  },
  {
   "cell_type": "code",
   "execution_count": 63,
   "metadata": {},
   "outputs": [
    {
     "name": "stdout",
     "output_type": "stream",
     "text": [
      "155467.3342704773\n"
     ]
    }
   ],
   "source": [
    "print(elapsed_time_ms)"
   ]
  },
  {
   "cell_type": "code",
   "execution_count": 64,
   "metadata": {},
   "outputs": [],
   "source": [
    "url = \"http://localhost:8000/leastresponsetime\"\n",
    "threads = []\n",
    "\n",
    "start_time = time.time()\n",
    "for i in range(1,6):\n",
    "  thread = threading.Thread(target=url_post, args=(url, \"leastresponsetime4\",random_numbers,i))\n",
    "  threads.append(thread)\n",
    "  thread.start()\n",
    "\n",
    "for thread in threads:\n",
    "  thread.join()\n",
    "end_time = time.time()\n",
    "\n",
    "# 전체 소요 시간 계산 (밀리초 단위)\n",
    "elapsed_time_ms = (end_time - start_time) * 1000"
   ]
  },
  {
   "cell_type": "code",
   "execution_count": 65,
   "metadata": {},
   "outputs": [
    {
     "name": "stdout",
     "output_type": "stream",
     "text": [
      "158950.865983963\n"
     ]
    }
   ],
   "source": [
    "print(elapsed_time_ms)"
   ]
  },
  {
   "cell_type": "code",
   "execution_count": 66,
   "metadata": {},
   "outputs": [],
   "source": [
    "url = \"http://localhost:8000/leastresponsetime\"\n",
    "threads = []\n",
    "\n",
    "start_time = time.time()\n",
    "for i in range(1,6):\n",
    "  thread = threading.Thread(target=url_post, args=(url, \"leastresponsetime5\",random_numbers,i))\n",
    "  threads.append(thread)\n",
    "  thread.start()\n",
    "\n",
    "for thread in threads:\n",
    "  thread.join()\n",
    "end_time = time.time()\n",
    "\n",
    "# 전체 소요 시간 계산 (밀리초 단위)\n",
    "elapsed_time_ms = (end_time - start_time) * 1000"
   ]
  },
  {
   "cell_type": "code",
   "execution_count": 67,
   "metadata": {},
   "outputs": [
    {
     "name": "stdout",
     "output_type": "stream",
     "text": [
      "162980.59511184692\n"
     ]
    }
   ],
   "source": [
    "print(elapsed_time_ms)"
   ]
  },
  {
   "cell_type": "markdown",
   "metadata": {},
   "source": [
    "# LeastConnection"
   ]
  },
  {
   "cell_type": "code",
   "execution_count": 68,
   "metadata": {},
   "outputs": [
    {
     "data": {
      "text/plain": [
       "'http://210.107.197.118:3000/DSPROJECT-SERVICE : 0\\nhttp://210.107.196.183:3000/DSPROJECT-SERVICE : 0\\nhttp://210.107.197.114:3000/DSPROJECT-SERVICE : 0\\n'"
      ]
     },
     "execution_count": 68,
     "metadata": {},
     "output_type": "execute_result"
    }
   ],
   "source": [
    "response = requests.get(\"http://localhost:8000/init-leastconnection\")\n",
    "response.text"
   ]
  },
  {
   "cell_type": "code",
   "execution_count": 69,
   "metadata": {},
   "outputs": [],
   "source": [
    "url = \"http://localhost:8000/leastconnection\"\n",
    "threads = []\n",
    "\n",
    "start_time = time.time()\n",
    "for i in range(1,6):\n",
    "  thread = threading.Thread(target=url_post, args=(url, \"leastconnection\",random_numbers,i))\n",
    "  threads.append(thread)\n",
    "  thread.start()\n",
    "\n",
    "for thread in threads:\n",
    "  thread.join()\n",
    "end_time = time.time()\n",
    "\n",
    "# 전체 소요 시간 계산 (밀리초 단위)\n",
    "elapsed_time_ms = (end_time - start_time) * 1000"
   ]
  },
  {
   "cell_type": "code",
   "execution_count": 70,
   "metadata": {},
   "outputs": [
    {
     "name": "stdout",
     "output_type": "stream",
     "text": [
      "180580.0280570984\n"
     ]
    }
   ],
   "source": [
    "print(elapsed_time_ms)"
   ]
  },
  {
   "cell_type": "code",
   "execution_count": 71,
   "metadata": {},
   "outputs": [],
   "source": [
    "url = \"http://localhost:8000/leastconnection\"\n",
    "threads = []\n",
    "\n",
    "start_time = time.time()\n",
    "for i in range(1,6):\n",
    "  thread = threading.Thread(target=url_post, args=(url, \"leastconnection2\",random_numbers,i))\n",
    "  threads.append(thread)\n",
    "  thread.start()\n",
    "\n",
    "for thread in threads:\n",
    "  thread.join()\n",
    "end_time = time.time()\n",
    "\n",
    "# 전체 소요 시간 계산 (밀리초 단위)\n",
    "elapsed_time_ms = (end_time - start_time) * 1000"
   ]
  },
  {
   "cell_type": "code",
   "execution_count": 72,
   "metadata": {},
   "outputs": [
    {
     "name": "stdout",
     "output_type": "stream",
     "text": [
      "174299.99589920044\n"
     ]
    }
   ],
   "source": [
    "print(elapsed_time_ms)"
   ]
  },
  {
   "cell_type": "code",
   "execution_count": 73,
   "metadata": {},
   "outputs": [],
   "source": [
    "url = \"http://localhost:8000/leastconnection\"\n",
    "threads = []\n",
    "\n",
    "start_time = time.time()\n",
    "for i in range(1,6):\n",
    "  thread = threading.Thread(target=url_post, args=(url, \"leastconnection3\",random_numbers,i))\n",
    "  threads.append(thread)\n",
    "  thread.start()\n",
    "\n",
    "for thread in threads:\n",
    "  thread.join()\n",
    "end_time = time.time()\n",
    "\n",
    "# 전체 소요 시간 계산 (밀리초 단위)\n",
    "elapsed_time_ms = (end_time - start_time) * 1000"
   ]
  },
  {
   "cell_type": "code",
   "execution_count": 74,
   "metadata": {},
   "outputs": [
    {
     "name": "stdout",
     "output_type": "stream",
     "text": [
      "172701.3599872589\n"
     ]
    }
   ],
   "source": [
    "print(elapsed_time_ms)"
   ]
  },
  {
   "cell_type": "code",
   "execution_count": 75,
   "metadata": {},
   "outputs": [],
   "source": [
    "url = \"http://localhost:8000/leastconnection\"\n",
    "threads = []\n",
    "\n",
    "start_time = time.time()\n",
    "for i in range(1,6):\n",
    "  thread = threading.Thread(target=url_post, args=(url, \"leastconnection4\",random_numbers,i))\n",
    "  threads.append(thread)\n",
    "  thread.start()\n",
    "\n",
    "for thread in threads:\n",
    "  thread.join()\n",
    "end_time = time.time()\n",
    "\n",
    "# 전체 소요 시간 계산 (밀리초 단위)\n",
    "elapsed_time_ms = (end_time - start_time) * 1000"
   ]
  },
  {
   "cell_type": "code",
   "execution_count": 76,
   "metadata": {},
   "outputs": [
    {
     "name": "stdout",
     "output_type": "stream",
     "text": [
      "175556.82110786438\n"
     ]
    }
   ],
   "source": [
    "print(elapsed_time_ms)"
   ]
  },
  {
   "cell_type": "code",
   "execution_count": 77,
   "metadata": {},
   "outputs": [],
   "source": [
    "url = \"http://localhost:8000/leastconnection\"\n",
    "threads = []\n",
    "\n",
    "start_time = time.time()\n",
    "for i in range(1,6):\n",
    "  thread = threading.Thread(target=url_post, args=(url, \"leastconnection5\",random_numbers,i))\n",
    "  threads.append(thread)\n",
    "  thread.start()\n",
    "\n",
    "for thread in threads:\n",
    "  thread.join()\n",
    "end_time = time.time()\n",
    "\n",
    "# 전체 소요 시간 계산 (밀리초 단위)\n",
    "elapsed_time_ms = (end_time - start_time) * 1000"
   ]
  },
  {
   "cell_type": "code",
   "execution_count": 78,
   "metadata": {},
   "outputs": [
    {
     "name": "stdout",
     "output_type": "stream",
     "text": [
      "175143.9552307129\n"
     ]
    }
   ],
   "source": [
    "print(elapsed_time_ms)"
   ]
  },
  {
   "cell_type": "markdown",
   "metadata": {},
   "source": [
    "# CustomLoadbalancer"
   ]
  },
  {
   "cell_type": "code",
   "execution_count": 140,
   "metadata": {},
   "outputs": [
    {
     "data": {
      "text/plain": [
       "'http://210.107.197.118:3000/DSPROJECT-SERVICE : 311\\nhttp://210.107.197.114:3000/DSPROJECT-SERVICE : 873\\nhttp://210.107.196.183:3000/DSPROJECT-SERVICE : 864\\n'"
      ]
     },
     "execution_count": 140,
     "metadata": {},
     "output_type": "execute_result"
    }
   ],
   "source": [
    "response = requests.get(\"http://localhost:8000/init-customloadbalancer\")\n",
    "response.text"
   ]
  },
  {
   "cell_type": "code",
   "execution_count": 141,
   "metadata": {},
   "outputs": [],
   "source": [
    "url = \"http://localhost:8000/customloadbalancer\"\n",
    "threads = []\n",
    "\n",
    "start_time = time.time()\n",
    "for i in range(1,6):\n",
    "  thread = threading.Thread(target=url_post, args=(url, \"customloadbalancer\",random_numbers,i))\n",
    "  threads.append(thread)\n",
    "  thread.start()\n",
    "\n",
    "for thread in threads:\n",
    "  thread.join()\n",
    "end_time = time.time()\n",
    "\n",
    "# 전체 소요 시간 계산 (밀리초 단위)\n",
    "elapsed_time_ms = (end_time - start_time) * 1000"
   ]
  },
  {
   "cell_type": "code",
   "execution_count": 142,
   "metadata": {},
   "outputs": [
    {
     "name": "stdout",
     "output_type": "stream",
     "text": [
      "158029.61492538452\n"
     ]
    }
   ],
   "source": [
    "print(elapsed_time_ms)"
   ]
  },
  {
   "cell_type": "code",
   "execution_count": 143,
   "metadata": {},
   "outputs": [],
   "source": [
    "url = \"http://localhost:8000/customloadbalancer\"\n",
    "threads = []\n",
    "\n",
    "start_time = time.time()\n",
    "for i in range(1,6):\n",
    "  thread = threading.Thread(target=url_post, args=(url, \"customloadbalancer2\",random_numbers,i))\n",
    "  threads.append(thread)\n",
    "  thread.start()\n",
    "\n",
    "for thread in threads:\n",
    "  thread.join()\n",
    "end_time = time.time()\n",
    "\n",
    "# 전체 소요 시간 계산 (밀리초 단위)\n",
    "elapsed_time_ms = (end_time - start_time) * 1000"
   ]
  },
  {
   "cell_type": "code",
   "execution_count": 144,
   "metadata": {},
   "outputs": [
    {
     "name": "stdout",
     "output_type": "stream",
     "text": [
      "117041.88299179077\n"
     ]
    }
   ],
   "source": [
    "print(elapsed_time_ms)"
   ]
  },
  {
   "cell_type": "code",
   "execution_count": 145,
   "metadata": {},
   "outputs": [],
   "source": [
    "url = \"http://localhost:8000/customloadbalancer\"\n",
    "threads = []\n",
    "\n",
    "start_time = time.time()\n",
    "for i in range(1,6):\n",
    "  thread = threading.Thread(target=url_post, args=(url, \"customloadbalancer3\",random_numbers,i))\n",
    "  threads.append(thread)\n",
    "  thread.start()\n",
    "\n",
    "for thread in threads:\n",
    "  thread.join()\n",
    "end_time = time.time()\n",
    "\n",
    "# 전체 소요 시간 계산 (밀리초 단위)\n",
    "elapsed_time_ms = (end_time - start_time) * 1000"
   ]
  },
  {
   "cell_type": "code",
   "execution_count": 146,
   "metadata": {},
   "outputs": [
    {
     "name": "stdout",
     "output_type": "stream",
     "text": [
      "117499.12595748901\n"
     ]
    }
   ],
   "source": [
    "print(elapsed_time_ms)"
   ]
  },
  {
   "cell_type": "code",
   "execution_count": 147,
   "metadata": {},
   "outputs": [],
   "source": [
    "url = \"http://localhost:8000/customloadbalancer\"\n",
    "threads = []\n",
    "\n",
    "start_time = time.time()\n",
    "for i in range(1,6):\n",
    "  thread = threading.Thread(target=url_post, args=(url, \"customloadbalancer4\",random_numbers,i))\n",
    "  threads.append(thread)\n",
    "  thread.start()\n",
    "\n",
    "for thread in threads:\n",
    "  thread.join()\n",
    "end_time = time.time()\n",
    "\n",
    "# 전체 소요 시간 계산 (밀리초 단위)\n",
    "elapsed_time_ms = (end_time - start_time) * 1000"
   ]
  },
  {
   "cell_type": "code",
   "execution_count": 148,
   "metadata": {},
   "outputs": [
    {
     "name": "stdout",
     "output_type": "stream",
     "text": [
      "116823.53615760803\n"
     ]
    }
   ],
   "source": [
    "print(elapsed_time_ms)"
   ]
  },
  {
   "cell_type": "code",
   "execution_count": 149,
   "metadata": {},
   "outputs": [],
   "source": [
    "url = \"http://localhost:8000/customloadbalancer\"\n",
    "threads = []\n",
    "\n",
    "start_time = time.time()\n",
    "for i in range(1,6):\n",
    "  thread = threading.Thread(target=url_post, args=(url, \"customloadbalancer5\",random_numbers,i))\n",
    "  threads.append(thread)\n",
    "  thread.start()\n",
    "\n",
    "for thread in threads:\n",
    "  thread.join()\n",
    "end_time = time.time()\n",
    "\n",
    "# 전체 소요 시간 계산 (밀리초 단위)\n",
    "elapsed_time_ms = (end_time - start_time) * 1000"
   ]
  },
  {
   "cell_type": "code",
   "execution_count": 150,
   "metadata": {},
   "outputs": [
    {
     "name": "stdout",
     "output_type": "stream",
     "text": [
      "118357.86485671997\n"
     ]
    }
   ],
   "source": [
    "print(elapsed_time_ms)"
   ]
  }
 ],
 "metadata": {
  "kernelspec": {
   "display_name": "Python 3",
   "language": "python",
   "name": "python3"
  },
  "language_info": {
   "codemirror_mode": {
    "name": "ipython",
    "version": 3
   },
   "file_extension": ".py",
   "mimetype": "text/x-python",
   "name": "python",
   "nbconvert_exporter": "python",
   "pygments_lexer": "ipython3",
   "version": "3.9.6"
  }
 },
 "nbformat": 4,
 "nbformat_minor": 2
}
